{
 "cells": [
  {
   "cell_type": "markdown",
   "metadata": {
    "id": "MGdvdSiN-AbL"
   },
   "source": [
    "# How to Install TensorFlow GPU for Mac M1/M2 with Conda"
   ]
  },
  {
   "cell_type": "markdown",
   "metadata": {
    "id": "j_kp5Qz5-Jpk"
   },
   "source": [
    "## Part I: What is the issue?"
   ]
  },
  {
   "cell_type": "markdown",
   "metadata": {
    "id": "y-AGlUQo-OiW"
   },
   "source": [
    "### Rosetta and emulation\n",
    "\n",
    "You cannot run the rosetta intel emulation and the M1 chip at the same time. This [video](https://www.youtube.com/watch?v=BEUU-icPg78) by Jeff Heaton traces where the error comes from.\n",
    "\n",
    "\n",
    "```\n",
    "tensorflow-deps\n",
    "```\n",
    "\n"
   ]
  },
  {
   "cell_type": "markdown",
   "metadata": {
    "id": "kO2iQbSjgwpI"
   },
   "source": [
    "Parts II, III, and IV are based on this [video](https://www.youtube.com/watch?v=5DgWvU0p2bk) by Heaton, and his GitHub repo that he refers to in the video is [here](https://github.com/jeffheaton/t81_558_deep_learning).\n",
    "\n",
    "**Fair Warning:** *While this process has worked for me, \"killing Conda\" and starting fresh is naturally risky, so proceed at your own discretion.*"
   ]
  },
  {
   "cell_type": "markdown",
   "metadata": {
    "id": "NIr_FwHI-RQT"
   },
   "source": [
    "## Part II: Removing conda"
   ]
  },
  {
   "cell_type": "markdown",
   "metadata": {
    "id": "5SfU-FD64F_T"
   },
   "source": [
    "The initial steps\n",
    "\n",
    "1.   In the Terminal\n",
    "*   >`conda activate learn-env`\n",
    "*   If you already have gone through this process, instead you may have something like this instead:\n",
    "> `conda activate /opt/miniconda3/envs/learn-env`\n",
    "2.   Check your version\n",
    "> `python --version`\n",
    "3.   Install an [Anaconda](https://docs.anaconda.com/anaconda/install/uninstall/) package to git rid of the \"junk\" and takes care of all of the different places Anaconda is stored; type **y** and hit **return** when asked to **Proceed**.\n",
    "> `conda install anaconda-clean`\n",
    "4.  In the Terminal, run the package that was just downloaded, and when asked to **Delete ...**, type **y** and hit **return** each time.\n",
    "> `anaconda-clean`\n",
    "5.  Go to **user/** and put the **opt** or **miniconda3** folder in the trash, one can also run the code suggested on the link above for macOS.\n",
    "6.  *Sanity Check.* Close the terminal, reopen, and there should be no python when you repeat Steps (1-2) from above. The terminal will return: **command not found**\n",
    "*   If you are still having issues, most likely due to a previous `miniconda` install, then run the command in `base`\n",
    "> `conda remove --name learn-env --all`\n",
    "*   Run `conda env list` in `base` and make sure the environment you wanted to remove is gone.\n",
    "\n"
   ]
  },
  {
   "cell_type": "markdown",
   "metadata": {
    "id": "eZ1eR3Xr-YMt"
   },
   "source": [
    "## Part III: Installing and setting-up conda"
   ]
  },
  {
   "cell_type": "markdown",
   "metadata": {
    "id": "pAkH_Yo5-iyJ"
   },
   "source": [
    "The intermediate steps.\n",
    "\n",
    "7.  You can download the full [Anaconda](https://docs.anaconda.com/anaconda/install/mac-os/) or [Miniconda](https://docs.conda.io/en/latest/miniconda.html). Since using Miniconda gives you more control, you will download the latter. For Miniconda, there are a number of options for macOS, make sure to download the correct package. N.B. If you download the intel package, Python will still work via Rosetta emulating the intel chip, but TensorFlow will still not work since you'll be missing `tensorflow-deps`. Ergo, downloand this correct M1 package:\n",
    "\n",
    "> **Miniconda3 macOS Apple M1 ARM 64-bit pkg**\n",
    "\n",
    "8.  The file will be called **Miniconda3-LATEST-MacOSX-arm64.pgk**, where you know you dowloaded the correct one since you see \"arm\" in the name of the package. So run the installer.\n",
    "*   At times, Miniconda changes the \"verbiage\" of the names of the packages, but they should be easily identifiable.\n",
    "*   When running the install, make sure to change the location of the disk\n",
    "*   Change to **Install for me only**\n",
    "*   Otherwise, you'll get an error; likely something like: \"*This package is incompatible with this version of macOS*\"\n",
    "*   You'll see me make this mistake in the video walk-thru where I change to the hard drive instead of for me only\n",
    "9.  In the Terminal within **-zsh**, type `python`, this will tell you the version of Python you are running, e.g. \"Python 3.10.10\".\n",
    "10.  *Sanity check.* Run the following two lines in z-shell, and you should get the output that confirms that you have the arm, i.e. M1/M2, version of Anaconda, and not the intel version.\n",
    "```\n",
    ">>> import platform\n",
    ">>> platform.platform()\n",
    "'macOS-13.2.1-arm64-arm-64bit'\n",
    "```\n",
    "\n",
    "\n"
   ]
  },
  {
   "cell_type": "markdown",
   "metadata": {
    "id": "VMXLU9EnFSIR"
   },
   "source": [
    "## Part IV: Intalling xcode and jupyter"
   ]
  },
  {
   "cell_type": "markdown",
   "metadata": {
    "id": "IEDbqH6vFVxF"
   },
   "source": [
    "Here are the closing steps.\n",
    "\n",
    "11.  Download **xcode**, or see that you already have it installed. Do this in a \"fresh\" terminal by running `xcode-select --install`. Either it will install it, or inform you via an error that you already have it installed.\n",
    "12.  In the terminal, install Jupyter `conda install -y jupyter`, which is the main ide/editor that we'll be using. (This will take a few moments.)\n",
    "13.  To move out of \"(base)\" within the Terminal, type `conda deactivate`. (This step may not be necessary, but does not hurt to do it.)"
   ]
  },
  {
   "cell_type": "markdown",
   "metadata": {
    "id": "ZNmz7STKTE6i"
   },
   "source": [
    "## Part V: Setting up the Conda Environment"
   ]
  },
  {
   "cell_type": "markdown",
   "metadata": {
    "id": "qfrUMYqRTJKG"
   },
   "source": [
    "This steps are layed out in more detail in this GitHub [repo](https://github.com/learn-co-curriculum/dsc-data-science-env-config).\n",
    "\n",
    "13.  Clone the this [dsc-m1tf repo](https://github.com/learn-co-curriculum/dsc-m1tf) and cd into this repo.\n",
    "14.  Create the conda environment by running the following in the Terminal, which takes a litle while since you are downloading all of the packages that you need. Most importantly for getting TensorFlow to work on the M1/M2 chip, within the **yaml** file, under *Channel* you have `apple`, under *Dependencies* you have `tensorflow-deps`, and under *pip* you have `ternsorflow-macos` and `tensorflow-metal`.\n",
    "```\n",
    "conda env create --name learn-env-m1tf -f mac_environment.yml\n",
    "```\n",
    "      *N.B.*: I had to downgrade the versions of `tensorflow-macos` and `tensorflow-metal`, viz. to 2.9 and 0.5.0, respectively, to get `model.fit()` to work correctly. Also, in the above GitHub link this is now called `mac_environment_tf.yml`.\n",
    "15.  *Sanity check.* To confirm that this worked, run `conda activate learn-env-m1tf` back in \"(base)\". You should see that you change from \"(base)\" to \"(learn-env-m1tf)\" and then verify by running `conda info --envs`; an asterisk next to learn-env-m1tf confirms that this worked.\n",
    "16.  Now set-up default environment. See the repo for `bash`, here it is for `zsh`\n",
    "```\n",
    "echo \"conda activate learn-env\" >> ~/.zshrc\n",
    "source ~/.zshrc\n",
    "```\n",
    "16.  You now need to register the environment so that learn-env-m1tf shows up as a kernel when we run jupyter\n",
    "```\n",
    "conda activate learn-env-m1tf\n",
    "python -m ipykernel install --user --name learn-env --display-name \"Python (learn-env-m1tf)\"\n",
    "```\n",
    "\n",
    "\n"
   ]
  },
  {
   "cell_type": "markdown",
   "metadata": {
    "id": "a1bVdlrVeR4g"
   },
   "source": [
    "## Part VI: Testing"
   ]
  },
  {
   "cell_type": "markdown",
   "metadata": {
    "id": "Qj7kNDh3eee7"
   },
   "source": [
    "*Sanity check.*\n",
    "\n",
    "Run the following code in the **learn-env kernel**.\n",
    "\n",
    "\n",
    "In addition to the code all running, you hope to see for the first line of output that the Platform is \"macOS-13.1-arm64-arm-64bit\" and the last line is \"GPU is available.\""
   ]
  },
  {
   "cell_type": "code",
   "execution_count": null,
   "metadata": {
    "id": "Gv-oqNAVgA9q"
   },
   "outputs": [],
   "source": [
    "import sys\n",
    "\n",
    "import tensorflow.keras\n",
    "import pandas as pd\n",
    "import sklearn as sk\n",
    "import tensorflow as tf\n",
    "import platform\n",
    "\n",
    "print(f\"Python Platform: {platform.platform()}\")\n",
    "print(f\"Tensor Flow Version: {tf.__version__}\")\n",
    "print(f\"Keras Version: {tensorflow.keras.__version__}\")\n",
    "print()\n",
    "print(f\"Python {sys.version}\")\n",
    "print(f\"Pandas {pd.__version__}\")\n",
    "print(f\"Scikit-Learn {sk.__version__}\")\n",
    "gpu = len(tf.config.list_physical_devices('GPU'))>0\n",
    "print(\"GPU is\", \"available\" if gpu else \"NOT AVAILABLE\")"
   ]
  },
  {
   "cell_type": "markdown",
   "metadata": {
    "id": "Oklh__2IpN32"
   },
   "source": [
    "To further make sure everything is working correctly, you can run the [tutorials](https://www.tensorflow.org/tutorials) with sample code on the TensorFlow websiste."
   ]
  },
  {
   "cell_type": "markdown",
   "metadata": {
    "id": "yY6Dg9ollj2E"
   },
   "source": [
    "Please let [Brendan Purdy](brendan.purdy@flatironschool.com) know via Slack if you have any questions, comments, suggestions, &c., regarding this documentation."
   ]
  },
  {
   "cell_type": "code",
   "execution_count": null,
   "metadata": {
    "id": "fa5Utmz-sko8"
   },
   "outputs": [],
   "source": []
  },
  {
   "cell_type": "markdown",
   "metadata": {
    "id": "1Dyvv57Tsm96"
   },
   "source": [
    "IN TERMINAL (https://stackoverflow.com/questions/39604271/conda-environments-not-showing-up-in-jupyter-notebook)\n",
    "\n",
    "conda deactivate\n",
    "source activate learn-env-m1tf\n",
    "pip install ipykernel\n",
    "python -m ipykernel install --user --name learn-env-m1tf --display-name \"Pyththon (m1tf)\""
   ]
  }
 ],
 "metadata": {
  "colab": {
   "provenance": []
  },
  "kernelspec": {
   "display_name": "Python 3 (ipykernel)",
   "language": "python",
   "name": "python3"
  },
  "language_info": {
   "codemirror_mode": {
    "name": "ipython",
    "version": 3
   },
   "file_extension": ".py",
   "mimetype": "text/x-python",
   "name": "python",
   "nbconvert_exporter": "python",
   "pygments_lexer": "ipython3",
   "version": "3.9.18"
  }
 },
 "nbformat": 4,
 "nbformat_minor": 4
}
